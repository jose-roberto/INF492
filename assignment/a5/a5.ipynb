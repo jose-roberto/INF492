{
 "cells": [
  {
   "cell_type": "markdown",
   "metadata": {
    "id": "a4z8PU4QjYDS"
   },
   "source": [
    "# Dados"
   ]
  },
  {
   "cell_type": "markdown",
   "metadata": {
    "id": "YyE_c8nhuS3n"
   },
   "source": [
    "## Caminhos"
   ]
  },
  {
   "cell_type": "code",
   "execution_count": 1,
   "metadata": {
    "colab": {
     "base_uri": "https://localhost:8080/"
    },
    "id": "Bx0bx2xZ4IqN",
    "outputId": "63a31f5f-e088-4009-bfef-dbf4a9587400"
   },
   "outputs": [],
   "source": [
    "datasets_path     = '/home/jose-roberto/Documents/Disciplinas/INF492/assignment/a5/datasets'\n",
    "models_path       = '/home/jose-roberto/Documents/Disciplinas/INF492/assignment/a5/models/'\n",
    "tensorboard_path  = '/home/jose-roberto/Documents/Disciplinas/INF492/assignment/a5/train_runs/'"
   ]
  },
  {
   "cell_type": "markdown",
   "metadata": {
    "id": "2CGVK_48hDFb"
   },
   "source": [
    "## Dataloader"
   ]
  },
  {
   "cell_type": "code",
   "execution_count": 2,
   "metadata": {
    "id": "t63l-AeYhE02"
   },
   "outputs": [],
   "source": [
    "from torch.utils.data import DataLoader\n",
    "import torchvision\n",
    "\n",
    "import matplotlib.pyplot as plt\n",
    "import numpy as np\n",
    "\n",
    "def my_imshow(img, dataset, numImages=10):\n",
    "  \n",
    "    if dataset == 'cifar10' : \n",
    "        img = img / 2 + 0.5     # unnormalize\n",
    "    \n",
    "    img = torchvision.utils.make_grid(img[:numImages],nrow=numImages//2)\n",
    "    \n",
    "    npimg = img.numpy()    \n",
    "    npimg = np.transpose(npimg, (1, 2, 0))\n",
    "    \n",
    "    plt.axis('off')\n",
    "    plt.imshow(npimg)\n",
    "    plt.show()\n",
    "\n",
    "def show_images(train_loader, test_loader, dataset, numImages=10) :\n",
    "    print('Train samples')\n",
    "    # get some random training images\n",
    "    dataiter = iter(train_loader)\n",
    "    images = next(dataiter)[0]\n",
    "    my_imshow(images, dataset, numImages)\n",
    " \n",
    "    print('Test samples')\n",
    "    # get some random training images\n",
    "    dataiter = iter(test_loader)\n",
    "    images = next(dataiter)[0]\n",
    "    my_imshow(images, dataset, numImages)\n",
    "\n",
    "def get_data_cifar10 ( batch_size , show_image=False, numImages=10 ) :\n",
    "  \n",
    "    my_transform = torchvision.transforms.Compose([\n",
    "                            torchvision.transforms.Resize(28),\n",
    "                            torchvision.transforms.ToTensor(),\n",
    "                            torchvision.transforms.Normalize(mean=[0.5],std=[0.5])\n",
    "                                    ])\n",
    "\n",
    "    train_dataset = torchvision.datasets.CIFAR10(\n",
    "                                root=f'{datasets_path}/train/', \n",
    "                                train=True, \n",
    "                                transform=my_transform, \n",
    "                                download=False\n",
    "                                )\n",
    "    test_dataset = torchvision.datasets.CIFAR10(\n",
    "                                root=f'{datasets_path}/test/',\n",
    "                                train=False, \n",
    "                                transform=my_transform, \n",
    "                                download=False\n",
    "                                )\n",
    "    train_loader = DataLoader(train_dataset, \n",
    "                                batch_size=batch_size,\n",
    "                                shuffle=True\n",
    "                                )\n",
    "    test_loader = DataLoader(test_dataset, \n",
    "                            batch_size=batch_size,\n",
    "                            shuffle=False\n",
    "                            )\n",
    "    \n",
    "    if show_image :\n",
    "        show_images(train_loader, test_loader, 'cifar10', numImages)\n",
    "    \n",
    "    return train_loader, test_loader, len(train_dataset)\n",
    "\n",
    "\n",
    "def get_data_mnist ( batch_size , show_image=False, numImages=10 ) :\n",
    "  \n",
    "    train_dataset = torchvision.datasets.mnist.MNIST(\n",
    "                            root=f'{datasets_path}/train/', \n",
    "                            train=True, \n",
    "                            transform=torchvision.transforms.ToTensor(), \n",
    "                            download=False\n",
    "                            )\n",
    "    test_dataset = torchvision.datasets.mnist.MNIST(\n",
    "                            root=f'{datasets_path}/test/',\n",
    "                            train=False, \n",
    "                            transform=torchvision.transforms.ToTensor(), \n",
    "                            download=False\n",
    "                            )\n",
    "\n",
    "    train_loader = DataLoader(train_dataset, batch_size=batch_size, shuffle=True)\n",
    "    test_loader = DataLoader(test_dataset, batch_size=batch_size, shuffle=False)\n",
    "    \n",
    "    if show_image :\n",
    "        show_images(train_loader, test_loader, 'mnist', numImages)\n",
    "    \n",
    "    return train_loader, test_loader, len(train_dataset)"
   ]
  },
  {
   "cell_type": "code",
   "execution_count": 3,
   "metadata": {
    "colab": {
     "base_uri": "https://localhost:8080/",
     "height": 353
    },
    "id": "w1xTo7PfW9T3",
    "outputId": "d855abbc-e96d-4a91-f670-8fe63ce303cd"
   },
   "outputs": [
    {
     "name": "stdout",
     "output_type": "stream",
     "text": [
      "Train samples\n"
     ]
    },
    {
     "data": {
      "image/png": "[encoded data removed]",
      "text/plain": [
       "<Figure size 640x480 with 1 Axes>"
      ]
     },
     "metadata": {},
     "output_type": "display_data"
    },
    {
     "name": "stdout",
     "output_type": "stream",
     "text": [
      "Test samples\n"
     ]
    },
    {
     "data": {
      "image/png": "[encoded data removed]",
      "text/plain": [
       "<Figure size 640x480 with 1 Axes>"
      ]
     },
     "metadata": {},
     "output_type": "display_data"
    }
   ],
   "source": [
    "get_data_mnist(batch_size=256, show_image=True, numImages=16);"
   ]
  },
  {
   "cell_type": "code",
   "execution_count": 4,
   "metadata": {
    "id": "T07l5G-CjffZ"
   },
   "outputs": [
    {
     "name": "stdout",
     "output_type": "stream",
     "text": [
      "Train samples\n"
     ]
    },
    {
     "data": {
      "image/png": "[encoded data removed]",
      "text/plain": [
       "<Figure size 640x480 with 1 Axes>"
      ]
     },
     "metadata": {},
     "output_type": "display_data"
    },
    {
     "name": "stdout",
     "output_type": "stream",
     "text": [
      "Test samples\n"
     ]
    },
    {
     "data": {
      "image/png": "[encoded data removed]",
      "text/plain": [
       "<Figure size 640x480 with 1 Axes>"
      ]
     },
     "metadata": {},
     "output_type": "display_data"
    }
   ],
   "source": [
    "get_data_cifar10(batch_size=256, show_image=True, numImages=10);"
   ]
  },
  {
   "cell_type": "markdown",
   "metadata": {
    "id": "rUZVS7myuD7Z"
   },
   "source": [
    "# Rede"
   ]
  },
  {
   "cell_type": "markdown",
   "metadata": {
    "id": "QORACe2Dgk_H"
   },
   "source": [
    "## Arquitetura"
   ]
  },
  {
   "cell_type": "code",
   "execution_count": 24,
   "metadata": {
    "id": "M8yJxo8_LKQg"
   },
   "outputs": [],
   "source": [
    "import torch\n",
    "import torch.nn as nn\n",
    "import torch.nn.functional as F\n",
    "\n",
    "class LeNet(nn.Module) :\n",
    "  \n",
    "    def __init__(self, num_classes=10, n_channels=1, relu=False):\n",
    "        super().__init__()\n",
    "\n",
    "        self.conv1 = nn.Conv2d(in_channels=n_channels, out_channels=6, kernel_size=5, padding=2)\n",
    "        self.act1 = nn.Sigmoid() if not relu else nn.ReLU()\n",
    "        self.pool1 = nn.AvgPool2d(kernel_size=2, stride=2)\n",
    "\n",
    "        self.conv2 = nn.Conv2d(in_channels=6, out_channels=16, kernel_size=5)\n",
    "        self.pool2 = nn.AvgPool2d(kernel_size=2, stride=2)\n",
    "\n",
    "        out_channels_conv3 = 120 if n_channels == 1 else 480\n",
    "        self.conv3 = nn.Conv2d(in_channels=16, out_channels=out_channels_conv3, kernel_size=5)\n",
    "\n",
    "        in_features_dense1 = out_channels_conv3\n",
    "        self.dense1 = nn.Linear(in_features=in_features_dense1, out_features=84)\n",
    "        self.act2 = nn.Tanh() if not relu else nn.ReLU()\n",
    "        \n",
    "        self.dense2 = nn.Linear(in_features=84, out_features=num_classes)\n",
    "        \n",
    "    def forward(self, x, debug=False):\n",
    "        if debug : print(f'Shape de entrada: {x.shape}')\n",
    "        x = self.conv1(x)\n",
    "        if debug : print(f'Shape de entrada: {x.shape}')\n",
    "        x = self.act1(x)\n",
    "        x = self.pool1(x)\n",
    "        if debug : print(f'Shape de entrada: {x.shape}')\n",
    "        x = self.conv2(x)\n",
    "        if debug : print(f'Shape de entrada: {x.shape}')\n",
    "        x = self.act1(x)\n",
    "        x = self.pool2(x)\n",
    "        if debug : print(f'Shape de entrada: {x.shape}')\n",
    "        x = self.conv3(x)\n",
    "        if debug : print(f'Shape de entrada: {x.shape}')\n",
    "        x = self.act1(x)\n",
    "        x = x.view(x.size(0), -1)\n",
    "        if debug : print(f'Shape de entrada: {x.shape}')\n",
    "        x = self.dense1(x)\n",
    "        if debug : print(f'Shape de entrada: {x.shape}')\n",
    "        x = self.act2(x)\n",
    "        x = self.dense2(x)\n",
    "        if debug : print(f'Shape de entrada: {x.shape}')\n",
    "        x = self.act2(x)\n",
    "\n",
    "        return x"
   ]
  },
  {
   "cell_type": "markdown",
   "metadata": {
    "id": "QjE_rDZOmfd6"
   },
   "source": [
    "## Informações sobre a rede"
   ]
  },
  {
   "cell_type": "code",
   "execution_count": 6,
   "metadata": {
    "colab": {
     "base_uri": "https://localhost:8080/"
    },
    "id": "fdSgF-6wD7__",
    "outputId": "a5085295-1a0d-45c5-f982-fe0aa0cf5703"
   },
   "outputs": [
    {
     "name": "stdout",
     "output_type": "stream",
     "text": [
      "Running on cpu.\n",
      "Shape de entrada: torch.Size([1, 1, 28, 28])\n",
      "Shape de entrada: torch.Size([1, 6, 28, 28])\n",
      "Shape de entrada: torch.Size([1, 6, 14, 14])\n",
      "Shape de entrada: torch.Size([1, 16, 10, 10])\n",
      "Shape de entrada: torch.Size([1, 16, 5, 5])\n",
      "Shape de entrada: torch.Size([1, 120, 1, 1])\n",
      "Shape de entrada: torch.Size([1, 120])\n",
      "Shape de entrada: torch.Size([1, 84])\n",
      "Shape de entrada: torch.Size([1, 10])\n"
     ]
    }
   ],
   "source": [
    "import torch\n",
    "\n",
    "if torch.cuda.is_available():\n",
    "    my_device = torch.device(\"cuda:0\")\n",
    "else:\n",
    "    my_device = torch.device(\"cpu\")\n",
    "    \n",
    "print(f\"Running on {my_device.type}.\")\n",
    "\n",
    "net = LeNet(num_classes=10, n_channels=1)\n",
    "net = net.to(my_device)\n",
    "\n",
    "a = torch.rand( (1, 1, 28, 28) )\n",
    "\n",
    "b = net( a.to(my_device), debug=True)"
   ]
  },
  {
   "cell_type": "code",
   "execution_count": 7,
   "metadata": {
    "colab": {
     "base_uri": "https://localhost:8080/"
    },
    "id": "q_TfzVGVRrsL",
    "outputId": "fcd47a54-96fc-4947-f790-e05c8c0c98e8"
   },
   "outputs": [
    {
     "name": "stdout",
     "output_type": "stream",
     "text": [
      "----------------------------------------------------------------\n",
      "        Layer (type)               Output Shape         Param #\n",
      "================================================================\n",
      "            Conv2d-1           [256, 6, 28, 28]             156\n",
      "           Sigmoid-2           [256, 6, 28, 28]               0\n",
      "         AvgPool2d-3           [256, 6, 14, 14]               0\n",
      "            Conv2d-4          [256, 16, 10, 10]           2,416\n",
      "           Sigmoid-5          [256, 16, 10, 10]               0\n",
      "         AvgPool2d-6            [256, 16, 5, 5]               0\n",
      "            Conv2d-7           [256, 120, 1, 1]          48,120\n",
      "           Sigmoid-8           [256, 120, 1, 1]               0\n",
      "            Linear-9                  [256, 84]          10,164\n",
      "             Tanh-10                  [256, 84]               0\n",
      "           Linear-11                  [256, 10]             850\n",
      "             Tanh-12                  [256, 10]               0\n",
      "================================================================\n",
      "Total params: 61,706\n",
      "Trainable params: 61,706\n",
      "Non-trainable params: 0\n",
      "----------------------------------------------------------------\n",
      "Input size (MB): 0.77\n",
      "Forward/backward pass size (MB): 28.54\n",
      "Params size (MB): 0.24\n",
      "Estimated Total Size (MB): 29.54\n",
      "----------------------------------------------------------------\n"
     ]
    }
   ],
   "source": [
    "from torchsummary import summary\n",
    "summary(net, input_size=(1,28,28), batch_size=256)\n",
    "del net, a, b"
   ]
  },
  {
   "cell_type": "code",
   "execution_count": 25,
   "metadata": {},
   "outputs": [
    {
     "name": "stdout",
     "output_type": "stream",
     "text": [
      "Shape de entrada: torch.Size([1, 3, 28, 28])\n",
      "Shape de entrada: torch.Size([1, 6, 28, 28])\n",
      "Shape de entrada: torch.Size([1, 6, 14, 14])\n",
      "Shape de entrada: torch.Size([1, 16, 10, 10])\n",
      "Shape de entrada: torch.Size([1, 16, 5, 5])\n",
      "Shape de entrada: torch.Size([1, 480, 1, 1])\n",
      "Shape de entrada: torch.Size([1, 480])\n",
      "Shape de entrada: torch.Size([1, 84])\n",
      "Shape de entrada: torch.Size([1, 10])\n",
      "----------------------------------------------------------------\n",
      "        Layer (type)               Output Shape         Param #\n",
      "================================================================\n",
      "            Conv2d-1           [256, 6, 28, 28]             456\n",
      "           Sigmoid-2           [256, 6, 28, 28]               0\n",
      "         AvgPool2d-3           [256, 6, 14, 14]               0\n",
      "            Conv2d-4          [256, 16, 10, 10]           2,416\n",
      "           Sigmoid-5          [256, 16, 10, 10]               0\n",
      "         AvgPool2d-6            [256, 16, 5, 5]               0\n",
      "            Conv2d-7           [256, 480, 1, 1]         192,480\n",
      "           Sigmoid-8           [256, 480, 1, 1]               0\n",
      "            Linear-9                  [256, 84]          40,404\n",
      "             Tanh-10                  [256, 84]               0\n",
      "           Linear-11                  [256, 10]             850\n",
      "             Tanh-12                  [256, 10]               0\n",
      "================================================================\n",
      "Total params: 236,606\n",
      "Trainable params: 236,606\n",
      "Non-trainable params: 0\n",
      "----------------------------------------------------------------\n",
      "Input size (MB): 2.30\n",
      "Forward/backward pass size (MB): 29.95\n",
      "Params size (MB): 0.90\n",
      "Estimated Total Size (MB): 33.14\n",
      "----------------------------------------------------------------\n"
     ]
    }
   ],
   "source": [
    "net = LeNet(num_classes=10, n_channels=3)\n",
    "net = net.to(my_device)\n",
    "\n",
    "a = torch.rand( (1, 3, 28, 28) )\n",
    "\n",
    "b = net( a.to(my_device), debug=True)\n",
    "\n",
    "from torchsummary import summary\n",
    "summary(net, input_size=(3,28,28), batch_size=256)\n",
    "del net, a, b"
   ]
  },
  {
   "cell_type": "markdown",
   "metadata": {
    "id": "b13rYc5AuT1J"
   },
   "source": [
    "## Treinamento"
   ]
  },
  {
   "cell_type": "code",
   "execution_count": 9,
   "metadata": {
    "id": "rMTNH0AbhSfo"
   },
   "outputs": [],
   "source": [
    "from torch.utils.tensorboard import SummaryWriter\n",
    "\n",
    "import torch.optim \n",
    "\n",
    "import matplotlib.pyplot as plt\n",
    "import numpy as np\n",
    "from tqdm import tqdm\n",
    "\n",
    "import copy\n",
    "  \n",
    "from datetime import datetime\n",
    "\n",
    "def train ( dataset, epochs=100, lr=1e-1, prefix='', upper_bound=99.0, device='cpu',\n",
    "           relu=False, save=False, debug=False, plot_histograms=False, lambda_reg=0) :\n",
    "\n",
    "    if dataset == 'mnist' :\n",
    "        batch_size = 256\n",
    "        train_loader, test_loader, dataset_size = get_data_mnist(batch_size, \n",
    "                                                                    show_image=True\n",
    "                                                                    )\n",
    "        num_classes = 10\n",
    "        n_channels = 1\n",
    "    elif dataset == 'cifar10' :\n",
    "        batch_size = 256\n",
    "        train_loader, test_loader, dataset_size = get_data_cifar10(batch_size, \n",
    "                                                                    show_image=True\n",
    "                                                                    )\n",
    "        num_classes = 10\n",
    "        n_channels = 3\n",
    "    else :\n",
    "        print('Dataset loader not implemented.')\n",
    "        return None    \n",
    "  \n",
    "    net = LeNet( num_classes, n_channels, relu=relu )\n",
    "    net.to(device)\n",
    "\n",
    "    optimizer = torch.optim.SGD(net.parameters(), lr, weight_decay=lambda_reg)\n",
    "    loss = nn.CrossEntropyLoss()\n",
    "\n",
    "    now = datetime.now()\n",
    "    suffix = now.strftime(\"%Y%m%d_%H%M%S\")\n",
    "    prefix = prefix + '-' + suffix if prefix != '' else suffix\n",
    "\n",
    "    writer = SummaryWriter( log_dir=tensorboard_path+prefix )\n",
    "    \n",
    "    writer.add_graph(net, next(iter(train_loader))[0].to(my_device))\n",
    "\n",
    "    accuracies = []\n",
    "    max_accuracy = -1.0\n",
    "\n",
    "    for epoch in tqdm( range(epochs) , desc='Training epochs...' ) :\n",
    "        net.train()  \n",
    "        for idx, (train_x, train_label) in enumerate(train_loader):\n",
    "            train_x = train_x.to(device)\n",
    "            train_label = train_label.to(device)\n",
    "\n",
    "            optimizer.zero_grad()\n",
    "\n",
    "            predict_y = net( train_x )\n",
    "\n",
    "            # Loss:\n",
    "            error = loss( predict_y , train_label.long() )\n",
    "\n",
    "            writer.add_scalar( 'Loss/train', error, \n",
    "                            idx+( epoch*(dataset_size//batch_size) ) )\n",
    "\n",
    "            error.backward()\n",
    "            optimizer.step()\n",
    "\n",
    "            # Accuracy:\n",
    "            predict_ys = torch.max( predict_y, axis=1 )[1]\n",
    "            correct    = torch.sum(predict_ys == train_label)\n",
    "\n",
    "            writer.add_scalar( 'Accuracy/train', correct/train_x.size(0), \n",
    "                            idx+( epoch*(dataset_size//batch_size) ) )\n",
    "\n",
    "            if debug and idx % 10 == 0 :\n",
    "                print(f'idx: {idx}, _error: {error}')\n",
    "\n",
    "        if plot_histograms : \n",
    "            plot_histograms_tensorboard(writer, net, epoch)\n",
    "        \n",
    "        accuracy = validate(net, test_loader, device=device)\n",
    "        accuracies.append(accuracy.cpu())\n",
    "        writer.add_scalar( 'Accuracy/test', accuracy, epoch )\n",
    "    \n",
    "        if accuracy > max_accuracy:\n",
    "            best_model = copy.deepcopy(net)\n",
    "            max_accuracy = accuracy\n",
    "            print(f'Saving Best Model with Accuracy: {max_accuracy:3.4f}')\n",
    "            \n",
    "        print( f'Epoch: {epoch+1:3d} | Accuracy : {accuracy:3.4f}%' )\n",
    "\n",
    "        if accuracy > upper_bound :\n",
    "            break\n",
    "   \n",
    "    if save : \n",
    "        path = f'{models_path}{'relu-' if relu else ''}LeNet5-{dataset}-{max_accuracy:.2f}.pkl'\n",
    "        torch.save(best_model.state_dict(), path)\n",
    "        print('Model saved in:',path)\n",
    "  \n",
    "    plt.plot(accuracies)\n",
    "\n",
    "    writer.flush()\n",
    "    writer.close()\n",
    "    \n",
    "    return best_model"
   ]
  },
  {
   "cell_type": "code",
   "execution_count": 10,
   "metadata": {},
   "outputs": [],
   "source": [
    "def plot_histograms_tensorboard ( writer, net, epoch ) :\n",
    "    writer.add_histogram('Bias/conv1',   net.conv1.bias,        epoch)\n",
    "    writer.add_histogram('Weight/conv1', net.conv1.weight,      epoch)\n",
    "    writer.add_histogram('Grad/conv1',   net.conv1.weight.grad, epoch)\n",
    "\n",
    "    writer.add_histogram('Bias/conv2',   net.conv2.bias,        epoch)\n",
    "    writer.add_histogram('Weight/conv2', net.conv2.weight,      epoch)\n",
    "    writer.add_histogram('Grad/conv2',   net.conv2.weight.grad, epoch)\n",
    "\n",
    "    writer.add_histogram('Bias/conv3',   net.conv3.bias,        epoch)\n",
    "    writer.add_histogram('Weight/conv3', net.conv3.weight,      epoch)\n",
    "    writer.add_histogram('Grad/conv3',   net.conv3.weight.grad, epoch)"
   ]
  },
  {
   "cell_type": "markdown",
   "metadata": {
    "id": "lXG-IjwogweA"
   },
   "source": [
    "## Validação"
   ]
  },
  {
   "cell_type": "code",
   "execution_count": 11,
   "metadata": {
    "id": "aFNT61DWgzW2"
   },
   "outputs": [],
   "source": [
    "def validate ( model , data , device='cpu') :\n",
    "    model.eval()\n",
    "    correct = 0\n",
    "    sum = 0\n",
    "    \n",
    "    for idx, (test_x, test_label) in enumerate(data) : \n",
    "        test_x = test_x.to(device)\n",
    "        test_label = test_label.to(device)\n",
    "        predict_y = model( test_x ).detach()\n",
    "        predict_ys = torch.max( predict_y, axis=1 )[1]\n",
    "        sum = sum + test_x.size(0)\n",
    "        correct = correct + torch.sum(predict_ys == test_label)\n",
    "    \n",
    "    return correct*100./sum"
   ]
  },
  {
   "cell_type": "markdown",
   "metadata": {
    "id": "SuR0UzNEMCy1"
   },
   "source": [
    "# Execução"
   ]
  },
  {
   "cell_type": "markdown",
   "metadata": {
    "id": "Ez-wfLE-ET_3"
   },
   "source": [
    "## Treina"
   ]
  },
  {
   "cell_type": "code",
   "execution_count": 12,
   "metadata": {},
   "outputs": [
    {
     "name": "stdout",
     "output_type": "stream",
     "text": [
      "Running on cpu.\n"
     ]
    }
   ],
   "source": [
    "if torch.cuda.is_available():\n",
    "    my_device = torch.device(\"cuda:0\")\n",
    "else:\n",
    "    my_device = torch.device(\"cpu\")\n",
    "print(f\"Running on {my_device.type}.\")"
   ]
  },
  {
   "cell_type": "markdown",
   "metadata": {},
   "source": [
    "### MNIST - Sigmoid e Tahn"
   ]
  },
  {
   "cell_type": "code",
   "execution_count": 38,
   "metadata": {
    "colab": {
     "base_uri": "https://localhost:8080/",
     "height": 835
    },
    "id": "u_naT_XMdkys",
    "outputId": "a5c02cc0-2017-4783-a9a6-f7ea0d93f244"
   },
   "outputs": [
    {
     "name": "stdout",
     "output_type": "stream",
     "text": [
      "Train samples\n"
     ]
    },
    {
     "data": {
      "image/png": "[encoded data removed]",
      "text/plain": [
       "<Figure size 640x480 with 1 Axes>"
      ]
     },
     "metadata": {},
     "output_type": "display_data"
    },
    {
     "name": "stdout",
     "output_type": "stream",
     "text": [
      "Test samples\n"
     ]
    },
    {
     "data": {
      "image/png": "[encoded data removed]",
      "text/plain": [
       "<Figure size 640x480 with 1 Axes>"
      ]
     },
     "metadata": {},
     "output_type": "display_data"
    },
    {
     "name": "stderr",
     "output_type": "stream",
     "text": [
      "Training epochs...:   3%|▎         | 1/30 [00:15<07:29, 15.51s/it]"
     ]
    },
    {
     "name": "stdout",
     "output_type": "stream",
     "text": [
      "Saving Best Model with Accuracy: 11.3500\n",
      "Epoch:   1 | Accuracy : 11.3500%\n"
     ]
    },
    {
     "name": "stderr",
     "output_type": "stream",
     "text": [
      "Training epochs...:   7%|▋         | 2/30 [00:31<07:29, 16.07s/it]"
     ]
    },
    {
     "name": "stdout",
     "output_type": "stream",
     "text": [
      "Epoch:   2 | Accuracy : 11.3500%\n"
     ]
    },
    {
     "name": "stderr",
     "output_type": "stream",
     "text": [
      "Training epochs...:  10%|█         | 3/30 [00:48<07:17, 16.20s/it]"
     ]
    },
    {
     "name": "stdout",
     "output_type": "stream",
     "text": [
      "Epoch:   3 | Accuracy : 11.3500%\n"
     ]
    },
    {
     "name": "stderr",
     "output_type": "stream",
     "text": [
      "Training epochs...:  13%|█▎        | 4/30 [01:04<06:56, 16.03s/it]"
     ]
    },
    {
     "name": "stdout",
     "output_type": "stream",
     "text": [
      "Epoch:   4 | Accuracy : 11.3500%\n"
     ]
    },
    {
     "name": "stderr",
     "output_type": "stream",
     "text": [
      "Training epochs...:  17%|█▋        | 5/30 [01:20<06:43, 16.13s/it]"
     ]
    },
    {
     "name": "stdout",
     "output_type": "stream",
     "text": [
      "Epoch:   5 | Accuracy : 11.3500%\n"
     ]
    },
    {
     "name": "stderr",
     "output_type": "stream",
     "text": [
      "Training epochs...:  20%|██        | 6/30 [01:36<06:26, 16.09s/it]"
     ]
    },
    {
     "name": "stdout",
     "output_type": "stream",
     "text": [
      "Epoch:   6 | Accuracy : 11.3500%\n"
     ]
    },
    {
     "name": "stderr",
     "output_type": "stream",
     "text": [
      "Training epochs...:  23%|██▎       | 7/30 [01:52<06:07, 15.99s/it]"
     ]
    },
    {
     "name": "stdout",
     "output_type": "stream",
     "text": [
      "Epoch:   7 | Accuracy : 11.3500%\n"
     ]
    },
    {
     "name": "stderr",
     "output_type": "stream",
     "text": [
      "Training epochs...:  27%|██▋       | 8/30 [02:08<05:54, 16.11s/it]"
     ]
    },
    {
     "name": "stdout",
     "output_type": "stream",
     "text": [
      "Epoch:   8 | Accuracy : 11.3500%\n"
     ]
    },
    {
     "name": "stderr",
     "output_type": "stream",
     "text": [
      "Training epochs...:  30%|███       | 9/30 [02:25<05:40, 16.22s/it]"
     ]
    },
    {
     "name": "stdout",
     "output_type": "stream",
     "text": [
      "Epoch:   9 | Accuracy : 11.3500%\n"
     ]
    },
    {
     "name": "stderr",
     "output_type": "stream",
     "text": [
      "Training epochs...:  33%|███▎      | 10/30 [02:40<05:22, 16.11s/it]"
     ]
    },
    {
     "name": "stdout",
     "output_type": "stream",
     "text": [
      "Saving Best Model with Accuracy: 50.9600\n",
      "Epoch:  10 | Accuracy : 50.9600%\n"
     ]
    },
    {
     "name": "stderr",
     "output_type": "stream",
     "text": [
      "Training epochs...:  37%|███▋      | 11/30 [02:56<05:04, 16.03s/it]"
     ]
    },
    {
     "name": "stdout",
     "output_type": "stream",
     "text": [
      "Saving Best Model with Accuracy: 86.6700\n",
      "Epoch:  11 | Accuracy : 86.6700%\n"
     ]
    },
    {
     "name": "stderr",
     "output_type": "stream",
     "text": [
      "Training epochs...:  40%|████      | 12/30 [03:12<04:47, 15.95s/it]"
     ]
    },
    {
     "name": "stdout",
     "output_type": "stream",
     "text": [
      "Saving Best Model with Accuracy: 89.7200\n",
      "Epoch:  12 | Accuracy : 89.7200%\n"
     ]
    },
    {
     "name": "stderr",
     "output_type": "stream",
     "text": [
      "Training epochs...:  43%|████▎     | 13/30 [03:29<04:34, 16.12s/it]"
     ]
    },
    {
     "name": "stdout",
     "output_type": "stream",
     "text": [
      "Saving Best Model with Accuracy: 92.8500\n",
      "Epoch:  13 | Accuracy : 92.8500%\n"
     ]
    },
    {
     "name": "stderr",
     "output_type": "stream",
     "text": [
      "Training epochs...:  47%|████▋     | 14/30 [03:45<04:20, 16.26s/it]"
     ]
    },
    {
     "name": "stdout",
     "output_type": "stream",
     "text": [
      "Saving Best Model with Accuracy: 93.6000\n",
      "Epoch:  14 | Accuracy : 93.6000%\n"
     ]
    },
    {
     "name": "stderr",
     "output_type": "stream",
     "text": [
      "Training epochs...:  50%|█████     | 15/30 [04:02<04:07, 16.48s/it]"
     ]
    },
    {
     "name": "stdout",
     "output_type": "stream",
     "text": [
      "Saving Best Model with Accuracy: 94.9500\n",
      "Epoch:  15 | Accuracy : 94.9500%\n"
     ]
    },
    {
     "name": "stderr",
     "output_type": "stream",
     "text": [
      "Training epochs...:  53%|█████▎    | 16/30 [04:19<03:50, 16.50s/it]"
     ]
    },
    {
     "name": "stdout",
     "output_type": "stream",
     "text": [
      "Epoch:  16 | Accuracy : 93.9800%\n"
     ]
    },
    {
     "name": "stderr",
     "output_type": "stream",
     "text": [
      "Training epochs...:  57%|█████▋    | 17/30 [04:36<03:37, 16.71s/it]"
     ]
    },
    {
     "name": "stdout",
     "output_type": "stream",
     "text": [
      "Epoch:  17 | Accuracy : 94.7500%\n"
     ]
    },
    {
     "name": "stderr",
     "output_type": "stream",
     "text": [
      "Training epochs...:  60%|██████    | 18/30 [04:52<03:18, 16.53s/it]"
     ]
    },
    {
     "name": "stdout",
     "output_type": "stream",
     "text": [
      "Saving Best Model with Accuracy: 96.6400\n",
      "Epoch:  18 | Accuracy : 96.6400%\n"
     ]
    },
    {
     "name": "stderr",
     "output_type": "stream",
     "text": [
      "Training epochs...:  63%|██████▎   | 19/30 [05:08<02:59, 16.32s/it]"
     ]
    },
    {
     "name": "stdout",
     "output_type": "stream",
     "text": [
      "Saving Best Model with Accuracy: 97.0100\n",
      "Epoch:  19 | Accuracy : 97.0100%\n"
     ]
    },
    {
     "name": "stderr",
     "output_type": "stream",
     "text": [
      "Training epochs...:  67%|██████▋   | 20/30 [05:24<02:44, 16.42s/it]"
     ]
    },
    {
     "name": "stdout",
     "output_type": "stream",
     "text": [
      "Epoch:  20 | Accuracy : 96.6000%\n"
     ]
    },
    {
     "name": "stderr",
     "output_type": "stream",
     "text": [
      "Training epochs...:  70%|███████   | 21/30 [05:40<02:26, 16.31s/it]"
     ]
    },
    {
     "name": "stdout",
     "output_type": "stream",
     "text": [
      "Saving Best Model with Accuracy: 97.4400\n",
      "Epoch:  21 | Accuracy : 97.4400%\n"
     ]
    },
    {
     "name": "stderr",
     "output_type": "stream",
     "text": [
      "Training epochs...:  73%|███████▎  | 22/30 [05:57<02:10, 16.36s/it]"
     ]
    },
    {
     "name": "stdout",
     "output_type": "stream",
     "text": [
      "Epoch:  22 | Accuracy : 96.2700%\n"
     ]
    },
    {
     "name": "stderr",
     "output_type": "stream",
     "text": [
      "Training epochs...:  77%|███████▋  | 23/30 [06:14<01:55, 16.49s/it]"
     ]
    },
    {
     "name": "stdout",
     "output_type": "stream",
     "text": [
      "Saving Best Model with Accuracy: 97.6300\n",
      "Epoch:  23 | Accuracy : 97.6300%\n"
     ]
    },
    {
     "name": "stderr",
     "output_type": "stream",
     "text": [
      "Training epochs...:  80%|████████  | 24/30 [06:30<01:38, 16.46s/it]"
     ]
    },
    {
     "name": "stdout",
     "output_type": "stream",
     "text": [
      "Saving Best Model with Accuracy: 97.8100\n",
      "Epoch:  24 | Accuracy : 97.8100%\n"
     ]
    },
    {
     "name": "stderr",
     "output_type": "stream",
     "text": [
      "Training epochs...:  83%|████████▎ | 25/30 [06:47<01:22, 16.56s/it]"
     ]
    },
    {
     "name": "stdout",
     "output_type": "stream",
     "text": [
      "Epoch:  25 | Accuracy : 97.7800%\n"
     ]
    },
    {
     "name": "stderr",
     "output_type": "stream",
     "text": [
      "Training epochs...:  87%|████████▋ | 26/30 [07:03<01:05, 16.41s/it]"
     ]
    },
    {
     "name": "stdout",
     "output_type": "stream",
     "text": [
      "Saving Best Model with Accuracy: 97.9100\n",
      "Epoch:  26 | Accuracy : 97.9100%\n"
     ]
    },
    {
     "name": "stderr",
     "output_type": "stream",
     "text": [
      "Training epochs...:  90%|█████████ | 27/30 [07:19<00:49, 16.40s/it]"
     ]
    },
    {
     "name": "stdout",
     "output_type": "stream",
     "text": [
      "Epoch:  27 | Accuracy : 97.6200%\n"
     ]
    },
    {
     "name": "stderr",
     "output_type": "stream",
     "text": [
      "Training epochs...:  93%|█████████▎| 28/30 [07:35<00:32, 16.26s/it]"
     ]
    },
    {
     "name": "stdout",
     "output_type": "stream",
     "text": [
      "Saving Best Model with Accuracy: 98.1900\n",
      "Epoch:  28 | Accuracy : 98.1900%\n"
     ]
    },
    {
     "name": "stderr",
     "output_type": "stream",
     "text": [
      "Training epochs...:  97%|█████████▋| 29/30 [07:51<00:16, 16.12s/it]"
     ]
    },
    {
     "name": "stdout",
     "output_type": "stream",
     "text": [
      "Epoch:  29 | Accuracy : 97.0900%\n"
     ]
    },
    {
     "name": "stderr",
     "output_type": "stream",
     "text": [
      "Training epochs...: 100%|██████████| 30/30 [08:09<00:00, 16.30s/it]"
     ]
    },
    {
     "name": "stdout",
     "output_type": "stream",
     "text": [
      "Epoch:  30 | Accuracy : 98.1800%\n",
      "Model saved in: /home/jose-roberto/Documents/Disciplinas/INF492/assignment/a5/models/LeNet5-mnist-98.19.pkl\n"
     ]
    },
    {
     "name": "stderr",
     "output_type": "stream",
     "text": [
      "\n"
     ]
    },
    {
     "data": {
      "image/png": "[encoded data removed]",
      "text/plain": [
       "<Figure size 640x480 with 1 Axes>"
      ]
     },
     "metadata": {},
     "output_type": "display_data"
    }
   ],
   "source": [
    "epochs = 30\n",
    "dataset = 'mnist' # 'cifar10' \n",
    "lr = 1.3e0\n",
    "lambda_reg = 0\n",
    "\n",
    "prefix = 'LeNet-{}-e-{}-lr-{}'.format(dataset, epochs, lr)\n",
    "\n",
    "net = train( dataset=dataset, epochs=epochs, lr=lr, prefix=prefix , upper_bound=100, device=my_device,\n",
    "            relu=False, save=True, debug=False, plot_histograms=True, lambda_reg=lambda_reg )"
   ]
  },
  {
   "cell_type": "markdown",
   "metadata": {},
   "source": [
    "### MNIST - ReLu"
   ]
  },
  {
   "cell_type": "code",
   "execution_count": 40,
   "metadata": {},
   "outputs": [
    {
     "name": "stdout",
     "output_type": "stream",
     "text": [
      "Train samples\n"
     ]
    },
    {
     "data": {
      "image/png": "[encoded data removed]",
      "text/plain": [
       "<Figure size 640x480 with 1 Axes>"
      ]
     },
     "metadata": {},
     "output_type": "display_data"
    },
    {
     "name": "stdout",
     "output_type": "stream",
     "text": [
      "Test samples\n"
     ]
    },
    {
     "data": {
      "image/png": "[encoded data removed]",
      "text/plain": [
       "<Figure size 640x480 with 1 Axes>"
      ]
     },
     "metadata": {},
     "output_type": "display_data"
    },
    {
     "name": "stderr",
     "output_type": "stream",
     "text": [
      "Training epochs...:   3%|▎         | 1/30 [00:15<07:18, 15.12s/it]"
     ]
    },
    {
     "name": "stdout",
     "output_type": "stream",
     "text": [
      "Saving Best Model with Accuracy: 12.7600\n",
      "Epoch:   1 | Accuracy : 12.7600%\n"
     ]
    },
    {
     "name": "stderr",
     "output_type": "stream",
     "text": [
      "Training epochs...:   7%|▋         | 2/30 [00:29<06:56, 14.86s/it]"
     ]
    },
    {
     "name": "stdout",
     "output_type": "stream",
     "text": [
      "Saving Best Model with Accuracy: 49.2600\n",
      "Epoch:   2 | Accuracy : 49.2600%\n"
     ]
    },
    {
     "name": "stderr",
     "output_type": "stream",
     "text": [
      "Training epochs...:  10%|█         | 3/30 [00:44<06:42, 14.91s/it]"
     ]
    },
    {
     "name": "stdout",
     "output_type": "stream",
     "text": [
      "Saving Best Model with Accuracy: 77.9200\n",
      "Epoch:   3 | Accuracy : 77.9200%\n"
     ]
    },
    {
     "name": "stderr",
     "output_type": "stream",
     "text": [
      "Training epochs...:  13%|█▎        | 4/30 [01:00<06:36, 15.27s/it]"
     ]
    },
    {
     "name": "stdout",
     "output_type": "stream",
     "text": [
      "Saving Best Model with Accuracy: 83.6800\n",
      "Epoch:   4 | Accuracy : 83.6800%\n"
     ]
    },
    {
     "name": "stderr",
     "output_type": "stream",
     "text": [
      "Training epochs...:  17%|█▋        | 5/30 [01:16<06:29, 15.56s/it]"
     ]
    },
    {
     "name": "stdout",
     "output_type": "stream",
     "text": [
      "Saving Best Model with Accuracy: 90.5100\n",
      "Epoch:   5 | Accuracy : 90.5100%\n"
     ]
    },
    {
     "name": "stderr",
     "output_type": "stream",
     "text": [
      "Training epochs...:  20%|██        | 6/30 [01:33<06:21, 15.89s/it]"
     ]
    },
    {
     "name": "stdout",
     "output_type": "stream",
     "text": [
      "Saving Best Model with Accuracy: 93.0100\n",
      "Epoch:   6 | Accuracy : 93.0100%\n"
     ]
    },
    {
     "name": "stderr",
     "output_type": "stream",
     "text": [
      "Training epochs...:  23%|██▎       | 7/30 [01:50<06:13, 16.26s/it]"
     ]
    },
    {
     "name": "stdout",
     "output_type": "stream",
     "text": [
      "Saving Best Model with Accuracy: 93.9400\n",
      "Epoch:   7 | Accuracy : 93.9400%\n"
     ]
    },
    {
     "name": "stderr",
     "output_type": "stream",
     "text": [
      "Training epochs...:  27%|██▋       | 8/30 [02:05<05:54, 16.11s/it]"
     ]
    },
    {
     "name": "stdout",
     "output_type": "stream",
     "text": [
      "Saving Best Model with Accuracy: 94.4200\n",
      "Epoch:   8 | Accuracy : 94.4200%\n"
     ]
    },
    {
     "name": "stderr",
     "output_type": "stream",
     "text": [
      "Training epochs...:  30%|███       | 9/30 [02:23<05:44, 16.42s/it]"
     ]
    },
    {
     "name": "stdout",
     "output_type": "stream",
     "text": [
      "Saving Best Model with Accuracy: 95.9400\n",
      "Epoch:   9 | Accuracy : 95.9400%\n"
     ]
    },
    {
     "name": "stderr",
     "output_type": "stream",
     "text": [
      "Training epochs...:  33%|███▎      | 10/30 [02:39<05:28, 16.43s/it]"
     ]
    },
    {
     "name": "stdout",
     "output_type": "stream",
     "text": [
      "Saving Best Model with Accuracy: 96.3800\n",
      "Epoch:  10 | Accuracy : 96.3800%\n"
     ]
    },
    {
     "name": "stderr",
     "output_type": "stream",
     "text": [
      "Training epochs...:  37%|███▋      | 11/30 [02:55<05:08, 16.24s/it]"
     ]
    },
    {
     "name": "stdout",
     "output_type": "stream",
     "text": [
      "Saving Best Model with Accuracy: 96.7100\n",
      "Epoch:  11 | Accuracy : 96.7100%\n"
     ]
    },
    {
     "name": "stderr",
     "output_type": "stream",
     "text": [
      "Training epochs...:  40%|████      | 12/30 [03:11<04:53, 16.30s/it]"
     ]
    },
    {
     "name": "stdout",
     "output_type": "stream",
     "text": [
      "Saving Best Model with Accuracy: 97.0300\n",
      "Epoch:  12 | Accuracy : 97.0300%\n"
     ]
    },
    {
     "name": "stderr",
     "output_type": "stream",
     "text": [
      "Training epochs...:  43%|████▎     | 13/30 [03:27<04:33, 16.07s/it]"
     ]
    },
    {
     "name": "stdout",
     "output_type": "stream",
     "text": [
      "Epoch:  13 | Accuracy : 96.8600%\n"
     ]
    },
    {
     "name": "stderr",
     "output_type": "stream",
     "text": [
      "Training epochs...:  47%|████▋     | 14/30 [03:43<04:16, 16.02s/it]"
     ]
    },
    {
     "name": "stdout",
     "output_type": "stream",
     "text": [
      "Epoch:  14 | Accuracy : 96.7400%\n"
     ]
    },
    {
     "name": "stderr",
     "output_type": "stream",
     "text": [
      "Training epochs...:  50%|█████     | 15/30 [04:00<04:04, 16.33s/it]"
     ]
    },
    {
     "name": "stdout",
     "output_type": "stream",
     "text": [
      "Saving Best Model with Accuracy: 97.2800\n",
      "Epoch:  15 | Accuracy : 97.2800%\n"
     ]
    },
    {
     "name": "stderr",
     "output_type": "stream",
     "text": [
      "Training epochs...:  53%|█████▎    | 16/30 [04:15<03:45, 16.13s/it]"
     ]
    },
    {
     "name": "stdout",
     "output_type": "stream",
     "text": [
      "Epoch:  16 | Accuracy : 97.1100%\n"
     ]
    },
    {
     "name": "stderr",
     "output_type": "stream",
     "text": [
      "Training epochs...:  57%|█████▋    | 17/30 [04:31<03:27, 15.99s/it]"
     ]
    },
    {
     "name": "stdout",
     "output_type": "stream",
     "text": [
      "Epoch:  17 | Accuracy : 97.0700%\n"
     ]
    },
    {
     "name": "stderr",
     "output_type": "stream",
     "text": [
      "Training epochs...:  60%|██████    | 18/30 [04:47<03:11, 15.98s/it]"
     ]
    },
    {
     "name": "stdout",
     "output_type": "stream",
     "text": [
      "Epoch:  18 | Accuracy : 96.9800%\n"
     ]
    },
    {
     "name": "stderr",
     "output_type": "stream",
     "text": [
      "Training epochs...:  63%|██████▎   | 19/30 [05:03<02:54, 15.89s/it]"
     ]
    },
    {
     "name": "stdout",
     "output_type": "stream",
     "text": [
      "Saving Best Model with Accuracy: 97.7200\n",
      "Epoch:  19 | Accuracy : 97.7200%\n"
     ]
    },
    {
     "name": "stderr",
     "output_type": "stream",
     "text": [
      "Training epochs...:  67%|██████▋   | 20/30 [05:18<02:38, 15.83s/it]"
     ]
    },
    {
     "name": "stdout",
     "output_type": "stream",
     "text": [
      "Epoch:  20 | Accuracy : 94.9600%\n"
     ]
    },
    {
     "name": "stderr",
     "output_type": "stream",
     "text": [
      "Training epochs...:  70%|███████   | 21/30 [05:34<02:22, 15.85s/it]"
     ]
    },
    {
     "name": "stdout",
     "output_type": "stream",
     "text": [
      "Epoch:  21 | Accuracy : 97.1800%\n"
     ]
    },
    {
     "name": "stderr",
     "output_type": "stream",
     "text": [
      "Training epochs...:  73%|███████▎  | 22/30 [05:51<02:08, 16.08s/it]"
     ]
    },
    {
     "name": "stdout",
     "output_type": "stream",
     "text": [
      "Saving Best Model with Accuracy: 97.8100\n",
      "Epoch:  22 | Accuracy : 97.8100%\n"
     ]
    },
    {
     "name": "stderr",
     "output_type": "stream",
     "text": [
      "Training epochs...:  77%|███████▋  | 23/30 [06:08<01:54, 16.31s/it]"
     ]
    },
    {
     "name": "stdout",
     "output_type": "stream",
     "text": [
      "Epoch:  23 | Accuracy : 96.6900%\n"
     ]
    },
    {
     "name": "stderr",
     "output_type": "stream",
     "text": [
      "Training epochs...:  80%|████████  | 24/30 [06:24<01:38, 16.38s/it]"
     ]
    },
    {
     "name": "stdout",
     "output_type": "stream",
     "text": [
      "Epoch:  24 | Accuracy : 97.6100%\n"
     ]
    },
    {
     "name": "stderr",
     "output_type": "stream",
     "text": [
      "Training epochs...:  83%|████████▎ | 25/30 [06:41<01:21, 16.34s/it]"
     ]
    },
    {
     "name": "stdout",
     "output_type": "stream",
     "text": [
      "Saving Best Model with Accuracy: 98.0800\n",
      "Epoch:  25 | Accuracy : 98.0800%\n"
     ]
    },
    {
     "name": "stderr",
     "output_type": "stream",
     "text": [
      "Training epochs...:  87%|████████▋ | 26/30 [06:57<01:05, 16.25s/it]"
     ]
    },
    {
     "name": "stdout",
     "output_type": "stream",
     "text": [
      "Epoch:  26 | Accuracy : 97.8600%\n"
     ]
    },
    {
     "name": "stderr",
     "output_type": "stream",
     "text": [
      "Training epochs...:  90%|█████████ | 27/30 [07:13<00:48, 16.17s/it]"
     ]
    },
    {
     "name": "stdout",
     "output_type": "stream",
     "text": [
      "Epoch:  27 | Accuracy : 97.7700%\n"
     ]
    },
    {
     "name": "stderr",
     "output_type": "stream",
     "text": [
      "Training epochs...:  93%|█████████▎| 28/30 [07:29<00:32, 16.15s/it]"
     ]
    },
    {
     "name": "stdout",
     "output_type": "stream",
     "text": [
      "Epoch:  28 | Accuracy : 97.8000%\n"
     ]
    },
    {
     "name": "stderr",
     "output_type": "stream",
     "text": [
      "Training epochs...:  97%|█████████▋| 29/30 [07:45<00:16, 16.17s/it]"
     ]
    },
    {
     "name": "stdout",
     "output_type": "stream",
     "text": [
      "Saving Best Model with Accuracy: 98.2200\n",
      "Epoch:  29 | Accuracy : 98.2200%\n"
     ]
    },
    {
     "name": "stderr",
     "output_type": "stream",
     "text": [
      "Training epochs...: 100%|██████████| 30/30 [08:01<00:00, 16.04s/it]"
     ]
    },
    {
     "name": "stdout",
     "output_type": "stream",
     "text": [
      "Saving Best Model with Accuracy: 98.4000\n",
      "Epoch:  30 | Accuracy : 98.4000%\n",
      "Model saved in: /home/jose-roberto/Documents/Disciplinas/INF492/assignment/a5/models/relu-LeNet5-mnist-98.40.pkl\n"
     ]
    },
    {
     "name": "stderr",
     "output_type": "stream",
     "text": [
      "\n"
     ]
    },
    {
     "data": {
      "image/png": "[encoded data removed]",
      "text/plain": [
       "<Figure size 640x480 with 1 Axes>"
      ]
     },
     "metadata": {},
     "output_type": "display_data"
    }
   ],
   "source": [
    "epochs = 30\n",
    "dataset = 'mnist' # 'cifar10' \n",
    "lr = 5e-2\n",
    "lambda_reg = 0\n",
    "\n",
    "prefix = 'relu-LeNet-{}-e-{}-lr-{}'.format(dataset, epochs, lr)\n",
    "\n",
    "net_relu = train( dataset=dataset, epochs=epochs, lr=lr, prefix=prefix , upper_bound=100, device=my_device,\n",
    "            relu=True, save=True, debug=False, plot_histograms=True, lambda_reg=lambda_reg )"
   ]
  },
  {
   "cell_type": "markdown",
   "metadata": {},
   "source": [
    "### CIFAR10 - ReLu"
   ]
  },
  {
   "cell_type": "code",
   "execution_count": 41,
   "metadata": {},
   "outputs": [
    {
     "name": "stdout",
     "output_type": "stream",
     "text": [
      "Train samples\n"
     ]
    },
    {
     "data": {
      "image/png": "[encoded data removed]",
      "text/plain": [
       "<Figure size 640x480 with 1 Axes>"
      ]
     },
     "metadata": {},
     "output_type": "display_data"
    },
    {
     "name": "stdout",
     "output_type": "stream",
     "text": [
      "Test samples\n"
     ]
    },
    {
     "data": {
      "image/png": "[encoded data removed]",
      "text/plain": [
       "<Figure size 640x480 with 1 Axes>"
      ]
     },
     "metadata": {},
     "output_type": "display_data"
    },
    {
     "name": "stderr",
     "output_type": "stream",
     "text": [
      "Training epochs...:   3%|▎         | 1/30 [00:22<10:43, 22.19s/it]"
     ]
    },
    {
     "name": "stdout",
     "output_type": "stream",
     "text": [
      "Saving Best Model with Accuracy: 16.6100\n",
      "Epoch:   1 | Accuracy : 16.6100%\n"
     ]
    },
    {
     "name": "stderr",
     "output_type": "stream",
     "text": [
      "Training epochs...:   7%|▋         | 2/30 [00:45<10:31, 22.56s/it]"
     ]
    },
    {
     "name": "stdout",
     "output_type": "stream",
     "text": [
      "Saving Best Model with Accuracy: 18.1400\n",
      "Epoch:   2 | Accuracy : 18.1400%\n"
     ]
    },
    {
     "name": "stderr",
     "output_type": "stream",
     "text": [
      "Training epochs...:  10%|█         | 3/30 [01:09<10:34, 23.50s/it]"
     ]
    },
    {
     "name": "stdout",
     "output_type": "stream",
     "text": [
      "Saving Best Model with Accuracy: 24.7400\n",
      "Epoch:   3 | Accuracy : 24.7400%\n"
     ]
    },
    {
     "name": "stderr",
     "output_type": "stream",
     "text": [
      "Training epochs...:  13%|█▎        | 4/30 [01:35<10:35, 24.46s/it]"
     ]
    },
    {
     "name": "stdout",
     "output_type": "stream",
     "text": [
      "Saving Best Model with Accuracy: 32.8100\n",
      "Epoch:   4 | Accuracy : 32.8100%\n"
     ]
    },
    {
     "name": "stderr",
     "output_type": "stream",
     "text": [
      "Training epochs...:  17%|█▋        | 5/30 [02:00<10:17, 24.68s/it]"
     ]
    },
    {
     "name": "stdout",
     "output_type": "stream",
     "text": [
      "Saving Best Model with Accuracy: 38.0400\n",
      "Epoch:   5 | Accuracy : 38.0400%\n"
     ]
    },
    {
     "name": "stderr",
     "output_type": "stream",
     "text": [
      "Training epochs...:  20%|██        | 6/30 [02:26<10:02, 25.12s/it]"
     ]
    },
    {
     "name": "stdout",
     "output_type": "stream",
     "text": [
      "Saving Best Model with Accuracy: 38.6900\n",
      "Epoch:   6 | Accuracy : 38.6900%\n"
     ]
    },
    {
     "name": "stderr",
     "output_type": "stream",
     "text": [
      "Training epochs...:  23%|██▎       | 7/30 [02:52<09:46, 25.49s/it]"
     ]
    },
    {
     "name": "stdout",
     "output_type": "stream",
     "text": [
      "Saving Best Model with Accuracy: 41.9100\n",
      "Epoch:   7 | Accuracy : 41.9100%\n"
     ]
    },
    {
     "name": "stderr",
     "output_type": "stream",
     "text": [
      "Training epochs...:  27%|██▋       | 8/30 [03:17<09:17, 25.34s/it]"
     ]
    },
    {
     "name": "stdout",
     "output_type": "stream",
     "text": [
      "Saving Best Model with Accuracy: 46.7100\n",
      "Epoch:   8 | Accuracy : 46.7100%\n"
     ]
    },
    {
     "name": "stderr",
     "output_type": "stream",
     "text": [
      "Training epochs...:  30%|███       | 9/30 [03:43<08:51, 25.32s/it]"
     ]
    },
    {
     "name": "stdout",
     "output_type": "stream",
     "text": [
      "Saving Best Model with Accuracy: 47.0900\n",
      "Epoch:   9 | Accuracy : 47.0900%\n"
     ]
    },
    {
     "name": "stderr",
     "output_type": "stream",
     "text": [
      "Training epochs...:  33%|███▎      | 10/30 [04:08<08:25, 25.27s/it]"
     ]
    },
    {
     "name": "stdout",
     "output_type": "stream",
     "text": [
      "Saving Best Model with Accuracy: 47.1300\n",
      "Epoch:  10 | Accuracy : 47.1300%\n"
     ]
    },
    {
     "name": "stderr",
     "output_type": "stream",
     "text": [
      "Training epochs...:  37%|███▋      | 11/30 [04:34<08:03, 25.45s/it]"
     ]
    },
    {
     "name": "stdout",
     "output_type": "stream",
     "text": [
      "Epoch:  11 | Accuracy : 41.9400%\n"
     ]
    },
    {
     "name": "stderr",
     "output_type": "stream",
     "text": [
      "Training epochs...:  40%|████      | 12/30 [04:59<07:37, 25.43s/it]"
     ]
    },
    {
     "name": "stdout",
     "output_type": "stream",
     "text": [
      "Saving Best Model with Accuracy: 49.9500\n",
      "Epoch:  12 | Accuracy : 49.9500%\n"
     ]
    },
    {
     "name": "stderr",
     "output_type": "stream",
     "text": [
      "Training epochs...:  43%|████▎     | 13/30 [05:25<07:12, 25.46s/it]"
     ]
    },
    {
     "name": "stdout",
     "output_type": "stream",
     "text": [
      "Saving Best Model with Accuracy: 50.0100\n",
      "Epoch:  13 | Accuracy : 50.0100%\n"
     ]
    },
    {
     "name": "stderr",
     "output_type": "stream",
     "text": [
      "Training epochs...:  47%|████▋     | 14/30 [05:51<06:49, 25.61s/it]"
     ]
    },
    {
     "name": "stdout",
     "output_type": "stream",
     "text": [
      "Saving Best Model with Accuracy: 50.2100\n",
      "Epoch:  14 | Accuracy : 50.2100%\n"
     ]
    },
    {
     "name": "stderr",
     "output_type": "stream",
     "text": [
      "Training epochs...:  50%|█████     | 15/30 [06:16<06:24, 25.61s/it]"
     ]
    },
    {
     "name": "stdout",
     "output_type": "stream",
     "text": [
      "Epoch:  15 | Accuracy : 49.6300%\n"
     ]
    },
    {
     "name": "stderr",
     "output_type": "stream",
     "text": [
      "Training epochs...:  53%|█████▎    | 16/30 [06:43<06:01, 25.84s/it]"
     ]
    },
    {
     "name": "stdout",
     "output_type": "stream",
     "text": [
      "Saving Best Model with Accuracy: 51.6200\n",
      "Epoch:  16 | Accuracy : 51.6200%\n"
     ]
    },
    {
     "name": "stderr",
     "output_type": "stream",
     "text": [
      "Training epochs...:  57%|█████▋    | 17/30 [07:08<05:34, 25.70s/it]"
     ]
    },
    {
     "name": "stdout",
     "output_type": "stream",
     "text": [
      "Epoch:  17 | Accuracy : 43.8900%\n"
     ]
    },
    {
     "name": "stderr",
     "output_type": "stream",
     "text": [
      "Training epochs...:  60%|██████    | 18/30 [07:33<05:07, 25.65s/it]"
     ]
    },
    {
     "name": "stdout",
     "output_type": "stream",
     "text": [
      "Epoch:  18 | Accuracy : 46.8400%\n"
     ]
    },
    {
     "name": "stderr",
     "output_type": "stream",
     "text": [
      "Training epochs...:  63%|██████▎   | 19/30 [07:59<04:42, 25.64s/it]"
     ]
    },
    {
     "name": "stdout",
     "output_type": "stream",
     "text": [
      "Epoch:  19 | Accuracy : 49.9800%\n"
     ]
    },
    {
     "name": "stderr",
     "output_type": "stream",
     "text": [
      "Training epochs...:  67%|██████▋   | 20/30 [08:26<04:19, 25.94s/it]"
     ]
    },
    {
     "name": "stdout",
     "output_type": "stream",
     "text": [
      "Saving Best Model with Accuracy: 52.4700\n",
      "Epoch:  20 | Accuracy : 52.4700%\n"
     ]
    },
    {
     "name": "stderr",
     "output_type": "stream",
     "text": [
      "Training epochs...:  70%|███████   | 21/30 [08:52<03:55, 26.19s/it]"
     ]
    },
    {
     "name": "stdout",
     "output_type": "stream",
     "text": [
      "Epoch:  21 | Accuracy : 47.4000%\n"
     ]
    },
    {
     "name": "stderr",
     "output_type": "stream",
     "text": [
      "Training epochs...:  73%|███████▎  | 22/30 [09:19<03:30, 26.33s/it]"
     ]
    },
    {
     "name": "stdout",
     "output_type": "stream",
     "text": [
      "Saving Best Model with Accuracy: 53.7300\n",
      "Epoch:  22 | Accuracy : 53.7300%\n"
     ]
    },
    {
     "name": "stderr",
     "output_type": "stream",
     "text": [
      "Training epochs...:  77%|███████▋  | 23/30 [09:45<03:02, 26.12s/it]"
     ]
    },
    {
     "name": "stdout",
     "output_type": "stream",
     "text": [
      "Epoch:  23 | Accuracy : 53.1400%\n"
     ]
    },
    {
     "name": "stderr",
     "output_type": "stream",
     "text": [
      "Training epochs...:  80%|████████  | 24/30 [10:12<02:38, 26.36s/it]"
     ]
    },
    {
     "name": "stdout",
     "output_type": "stream",
     "text": [
      "Saving Best Model with Accuracy: 55.2500\n",
      "Epoch:  24 | Accuracy : 55.2500%\n"
     ]
    },
    {
     "name": "stderr",
     "output_type": "stream",
     "text": [
      "Training epochs...:  83%|████████▎ | 25/30 [10:37<02:10, 26.15s/it]"
     ]
    },
    {
     "name": "stdout",
     "output_type": "stream",
     "text": [
      "Saving Best Model with Accuracy: 55.4700\n",
      "Epoch:  25 | Accuracy : 55.4700%\n"
     ]
    },
    {
     "name": "stderr",
     "output_type": "stream",
     "text": [
      "Training epochs...:  87%|████████▋ | 26/30 [11:04<01:45, 26.40s/it]"
     ]
    },
    {
     "name": "stdout",
     "output_type": "stream",
     "text": [
      "Epoch:  26 | Accuracy : 53.9100%\n"
     ]
    },
    {
     "name": "stderr",
     "output_type": "stream",
     "text": [
      "Training epochs...:  90%|█████████ | 27/30 [11:31<01:19, 26.34s/it]"
     ]
    },
    {
     "name": "stdout",
     "output_type": "stream",
     "text": [
      "Epoch:  27 | Accuracy : 53.8900%\n"
     ]
    },
    {
     "name": "stderr",
     "output_type": "stream",
     "text": [
      "Training epochs...:  93%|█████████▎| 28/30 [11:57<00:52, 26.37s/it]"
     ]
    },
    {
     "name": "stdout",
     "output_type": "stream",
     "text": [
      "Epoch:  28 | Accuracy : 53.9700%\n"
     ]
    },
    {
     "name": "stderr",
     "output_type": "stream",
     "text": [
      "Training epochs...:  97%|█████████▋| 29/30 [12:24<00:26, 26.51s/it]"
     ]
    },
    {
     "name": "stdout",
     "output_type": "stream",
     "text": [
      "Epoch:  29 | Accuracy : 54.5500%\n"
     ]
    },
    {
     "name": "stderr",
     "output_type": "stream",
     "text": [
      "Training epochs...: 100%|██████████| 30/30 [12:50<00:00, 25.68s/it]"
     ]
    },
    {
     "name": "stdout",
     "output_type": "stream",
     "text": [
      "Saving Best Model with Accuracy: 56.4200\n",
      "Epoch:  30 | Accuracy : 56.4200%\n",
      "Model saved in: /home/jose-roberto/Documents/Disciplinas/INF492/assignment/a5/models/relu-LeNet5-cifar10-56.42.pkl\n"
     ]
    },
    {
     "name": "stderr",
     "output_type": "stream",
     "text": [
      "\n"
     ]
    },
    {
     "data": {
      "image/png": "[encoded data removed]",
      "text/plain": [
       "<Figure size 640x480 with 1 Axes>"
      ]
     },
     "metadata": {},
     "output_type": "display_data"
    }
   ],
   "source": [
    "epochs = 30\n",
    "dataset = 'cifar10' # 'mnist' \n",
    "lr = 5e-2\n",
    "lambda_reg = 0\n",
    "\n",
    "prefix = 'relu-LeNet-{}-e-{}-lr-{}'.format(dataset, epochs, lr)\n",
    "\n",
    "net_relu = train( dataset=dataset, epochs=epochs, lr=lr, prefix=prefix , upper_bound=100, device=my_device,\n",
    "            relu=True, save=True, debug=False, plot_histograms=True, lambda_reg=lambda_reg )"
   ]
  },
  {
   "cell_type": "markdown",
   "metadata": {
    "id": "36XRAIEHubdR"
   },
   "source": [
    "# Carregar Rede de arquivo"
   ]
  },
  {
   "cell_type": "code",
   "execution_count": 43,
   "metadata": {
    "id": "iOssniG-mWSN"
   },
   "outputs": [],
   "source": [
    "path = '/home/jose-roberto/Documents/Disciplinas/INF492/assignment/a5/models/LeNet5-mnist-98.19.pkl'\n",
    "path_relu = '/home/jose-roberto/Documents/Disciplinas/INF492/assignment/a5/models/relu-LeNet5-mnist-98.40.pkl'\n",
    "path_cifar10 = '/home/jose-roberto/Documents/Disciplinas/INF492/assignment/a5/models/relu-LeNet5-cifar10-56.42.pkl'\n",
    "\n",
    "n_channels = 1\n",
    "\n",
    "def load_LeNet ( device , path, n_channels=1, relu=False ) :\n",
    "    net = LeNet(num_classes=10, n_channels=n_channels, relu=relu)\n",
    "    net = net.to(device)\n",
    "    net.load_state_dict(torch.load(path))\n",
    "    net.eval()\n",
    "    return net\n",
    "\n",
    "net_mnist = load_LeNet(my_device, path)\n",
    "net_relu = load_LeNet(my_device, path_relu, relu=True)\n",
    "net_cifar10 = load_LeNet(my_device, path_cifar10, n_channels=3, relu=True)"
   ]
  },
  {
   "cell_type": "markdown",
   "metadata": {
    "id": "_kynNDloueji"
   },
   "source": [
    "# Carregar dado do MNIST e inferir"
   ]
  },
  {
   "cell_type": "code",
   "execution_count": 44,
   "metadata": {
    "colab": {
     "base_uri": "https://localhost:8080/",
     "height": 337
    },
    "id": "7kbmb6Hjf394",
    "outputId": "93599d6d-6dc8-4a87-f770-235eacb04780"
   },
   "outputs": [],
   "source": [
    "import PIL\n",
    "import torchvision\n",
    "import numpy as np\n",
    "\n",
    "def sample_and_predict_mnist ( net, seed=None, relu=False ) :\n",
    "\n",
    "    if seed is not None :\n",
    "        np.random.seed(seed)\n",
    "\n",
    "    dataset = torchvision.datasets.MNIST(\n",
    "                                      root=f'{datasets_path}/test/', \n",
    "                                      train=False\n",
    "                                      )\n",
    " \n",
    "    i = np.random.randint(len(dataset))\n",
    "    sample = dataset[i][0]\n",
    "\n",
    "    x = torchvision.transforms.ToTensor()(sample).float()\n",
    "\n",
    "    x = x.unsqueeze_(0)\n",
    "\n",
    "    x = x.to(my_device)\n",
    "\n",
    "    y = net ( x )\n",
    "\n",
    "    if relu:\n",
    "        y = torch.softmax(y, dim=1)\n",
    "    \n",
    "    confidence = torch.max(y, 1)[0]\n",
    "    prediction = torch.max(y, 1)[1]\n",
    "\n",
    "    print( 'Sample: {}'.format(i) )\n",
    "    plt.axis('off')\n",
    "    plt.imshow( sample , cmap='gray')\n",
    "\n",
    "    confidence = confidence.data.cpu().numpy()[0]\n",
    "    prediction = prediction.data.cpu().numpy()[0]\n",
    "\n",
    "    return prediction, confidence, dataset[i][1]"
   ]
  },
  {
   "cell_type": "code",
   "execution_count": 45,
   "metadata": {},
   "outputs": [
    {
     "name": "stdout",
     "output_type": "stream",
     "text": [
      "Sample: 8333\n",
      "\n",
      "Predicted clas: 6 \n",
      "Classifier confidence: 99.99% \n",
      "True label: 6\n"
     ]
    },
    {
     "data": {
      "image/png": "[encoded data removed]",
      "text/plain": [
       "<Figure size 640x480 with 1 Axes>"
      ]
     },
     "metadata": {},
     "output_type": "display_data"
    }
   ],
   "source": [
    "prediction, confidence, label = sample_and_predict_mnist(net_mnist)\n",
    "print( f'\\nPredicted clas: {prediction} \\nClassifier confidence: {confidence*100:4.2f}% \\nTrue label: {label}' )"
   ]
  },
  {
   "cell_type": "code",
   "execution_count": 46,
   "metadata": {},
   "outputs": [
    {
     "name": "stdout",
     "output_type": "stream",
     "text": [
      "Sample: 9209\n",
      "\n",
      "Predicted clas: 2 \n",
      "Classifier confidence: 99.94% \n",
      "True label: 2\n"
     ]
    },
    {
     "data": {
      "image/png": "[encoded data removed]",
      "text/plain": [
       "<Figure size 640x480 with 1 Axes>"
      ]
     },
     "metadata": {},
     "output_type": "display_data"
    }
   ],
   "source": [
    "prediction, confidence, label = sample_and_predict_mnist(net_relu, relu=True)\n",
    "print( f'\\nPredicted clas: {prediction} \\nClassifier confidence: {confidence*100:4.2f}% \\nTrue label: {label}' )"
   ]
  },
  {
   "cell_type": "markdown",
   "metadata": {},
   "source": [
    "# Carregar dado do CIFAR10 e inferir"
   ]
  },
  {
   "cell_type": "code",
   "execution_count": 47,
   "metadata": {},
   "outputs": [],
   "source": [
    "import PIL\n",
    "import torchvision\n",
    "import numpy as np\n",
    "\n",
    "def sample_and_predict_cifar10 ( net, seed=None, relu=False ) :\n",
    "\n",
    "    if seed is not None :\n",
    "        np.random.seed(seed)\n",
    "\n",
    "    \n",
    "    my_transform = torchvision.transforms.Compose([\n",
    "                            torchvision.transforms.Resize(28),\n",
    "                            torchvision.transforms.ToTensor(),\n",
    "                            torchvision.transforms.Normalize(mean=[0.5],std=[0.5])\n",
    "                                    ])\n",
    "\n",
    "    dataset = torchvision.datasets.CIFAR10(\n",
    "                                      root=f'{datasets_path}/test/',\n",
    "                                      transform=my_transform,\n",
    "                                      train=False\n",
    "                                      )\n",
    " \n",
    "    i = np.random.randint(len(dataset))\n",
    "    x = dataset[i][0]\n",
    "\n",
    "    sample = np.array(x)\n",
    "    sample = np.transpose(sample, (1, 2, 0))\n",
    "\n",
    "    x = x.unsqueeze_(0)\n",
    "\n",
    "    x = x.to(my_device)\n",
    "\n",
    "    y = net ( x )\n",
    "\n",
    "    if relu:\n",
    "        y = torch.softmax(y, dim=1)\n",
    "    \n",
    "    confidence = torch.max(y, 1)[0]\n",
    "    prediction = torch.max(y, 1)[1]\n",
    "\n",
    "    print( 'Sample: {}'.format(i) )\n",
    "    plt.axis('off')\n",
    "    plt.imshow( sample )\n",
    "\n",
    "    confidence = confidence.data.cpu().numpy()[0]\n",
    "    prediction = prediction.data.cpu().numpy()[0]\n",
    "\n",
    "    return prediction, confidence, dataset[i][1]"
   ]
  },
  {
   "cell_type": "code",
   "execution_count": 48,
   "metadata": {},
   "outputs": [
    {
     "name": "stderr",
     "output_type": "stream",
     "text": [
      "/tmp/ipykernel_12544/2333663424.py:26: DeprecationWarning: __array__ implementation doesn't accept a copy keyword, so passing copy=False failed. __array__ must implement 'dtype' and 'copy' keyword arguments. To learn more, see the migration guide https://numpy.org/devdocs/numpy_2_0_migration_guide.html#adapting-to-changes-in-the-copy-keyword\n",
      "  sample = np.array(x)\n",
      "Clipping input data to the valid range for imshow with RGB data ([0..1] for floats or [0..255] for integers). Got range [-0.99215686..0.9843137].\n"
     ]
    },
    {
     "name": "stdout",
     "output_type": "stream",
     "text": [
      "Sample: 9810\n",
      "\n",
      "Predicted clas: 5 \n",
      "Classifier confidence: 41.94% \n",
      "True label: 8\n"
     ]
    },
    {
     "data": {
      "image/png": "[encoded data removed]",
      "text/plain": [
       "<Figure size 640x480 with 1 Axes>"
      ]
     },
     "metadata": {},
     "output_type": "display_data"
    }
   ],
   "source": [
    "prediction, confidence, label = sample_and_predict_cifar10(net_cifar10, relu=True)\n",
    "print( f'\\nPredicted clas: {prediction} \\nClassifier confidence: {confidence*100:4.2f}% \\nTrue label: {label}' )"
   ]
  },
  {
   "cell_type": "markdown",
   "metadata": {},
   "source": [
    "# Conclusões\n",
    "\n",
    "Analisando os gráficos plotados no TensorBoard, temos que a Loss para Sigmoid/Tahn estabiliza-se mais rapidamente, enquanto para ReLu há um decaimento maior. Para a acurácia, vemos que com ReLu há uma convergência muito mais rápida, enquanto para Sigmoid/Tahn os valores ficam estagnados e aumentam lentamente até se estabilizarem em uma faixa superior. Acompanhando o treino, vemos que para Sigmoid/Tahn foram necessárias 28 épocas para atingir 98% de acurácia, enquanto para ReLu foram necessárias 25.\n",
    "\n",
    "E sobre a aplicação da mesma arquitetura no dataset CIFAR10, nota-se que o resultado máximo não foi satisfatório (aprox. 56% de acurácia). Isto era esperado, pois o dado é bem mais complexo comparado com o MNIST, contendo objetos complexos do mundo real, representados em três canais (RGB) e com bastante variações entre si."
   ]
  }
 ],
 "metadata": {
  "colab": {
   "collapsed_sections": [
    "rUZVS7myuD7Z",
    "QjE_rDZOmfd6",
    "36XRAIEHubdR",
    "Cf2RJcWTuigS"
   ],
   "name": "pytorch-LeNet-5-YannLecun-Paper.ipynb",
   "provenance": [],
   "toc_visible": true
  },
  "kernelspec": {
   "display_name": "Python 3",
   "language": "python",
   "name": "python3"
  },
  "language_info": {
   "codemirror_mode": {
    "name": "ipython",
    "version": 3
   },
   "file_extension": ".py",
   "mimetype": "text/x-python",
   "name": "python",
   "nbconvert_exporter": "python",
   "pygments_lexer": "ipython3",
   "version": "3.12.10"
  }
 },
 "nbformat": 4,
 "nbformat_minor": 4
}
